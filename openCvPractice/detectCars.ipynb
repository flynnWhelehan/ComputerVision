{
 "cells": [
  {
   "cell_type": "code",
   "execution_count": 13,
   "metadata": {},
   "outputs": [],
   "source": [
    "import cv2\n",
    "\n",
    "# Load the pre-trained car detection classifier\n",
    "car_cascade = cv2.CascadeClassifier('haarCascadeCars.xml')\n",
    "\n",
    "# Open the video file\n",
    "#cap = cv2.VideoCapture('cars.mp4')\n",
    "cap = cv2.VideoCapture('MWay_traffic.wmv')\n",
    "\n",
    "# Define the colors for the boxes\n",
    "    #colours = [(0, 0, 255), (0, 255, 0), (255, 0, 0)] #RGB\n",
    "# All contrasting colours (apart of dark ones that appear black)\n",
    "    # will use black to highlight when they have been processed\n",
    "colours = [(255, 0, 0), (0, 255, 0), (0, 0, 255), (255, 255, 0), (0, 255, 255), (255, 0, 255), (128, 0, 0), \n",
    "          (0, 128, 0), (0, 0, 128), (128, 128, 0), (128, 0, 128), (255, 128, 0), \n",
    "          (255, 0, 128), (128, 255, 0), (0, 255, 128), (128, 0, 255), (0, 128, 255)]\n",
    "\n",
    "while True:\n",
    "    # Read a frame from the video\n",
    "    ret, frame = cap.read()\n",
    "    \n",
    "    # If there are no more frames, break out of the loop\n",
    "    if not ret:\n",
    "        break\n",
    "    \n",
    "    # Convert the frame to grayscale\n",
    "    gray = cv2.cvtColor(frame, cv2.COLOR_BGR2GRAY)\n",
    "    \n",
    "    # Detect cars in the frame\n",
    "    cars = car_cascade.detectMultiScale(gray, scaleFactor=1.05, minNeighbors=3, minSize=(40, 40), maxSize=(150,150))\n",
    "    \n",
    "    # Draw bounding boxes around the detected cars\n",
    "    for i, (x, y, w, h) in enumerate(cars):\n",
    "        colour = colours[i % len(colours)]  # Cycle through the list of colors\n",
    "        cv2.rectangle(frame, (x, y), (x+w, y+h), colour, 2)\n",
    "    \n",
    "    # Display the frame with the bounding boxes around the detected cars\n",
    "    cv2.imshow('frame', frame)\n",
    "    #cv2.waitKey(0)\n",
    "    \n",
    "    # Wait for a key press and check if the 'q' key was pressed\n",
    "    if cv2.waitKey(1) == ord('q'):\n",
    "        break\n",
    "\n",
    "\n",
    "# Release the video capture object and close all windows\n",
    "cap.release()\n",
    "cv2.destroyAllWindows()\n"
   ]
  }
 ],
 "metadata": {
  "kernelspec": {
   "display_name": "base",
   "language": "python",
   "name": "python3"
  },
  "language_info": {
   "codemirror_mode": {
    "name": "ipython",
    "version": 3
   },
   "file_extension": ".py",
   "mimetype": "text/x-python",
   "name": "python",
   "nbconvert_exporter": "python",
   "pygments_lexer": "ipython3",
   "version": "3.9.7"
  },
  "orig_nbformat": 4
 },
 "nbformat": 4,
 "nbformat_minor": 2
}
